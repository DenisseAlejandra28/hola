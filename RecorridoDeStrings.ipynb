{
  "nbformat": 4,
  "nbformat_minor": 0,
  "metadata": {
    "colab": {
      "provenance": [],
      "include_colab_link": true
    },
    "kernelspec": {
      "name": "python3",
      "display_name": "Python 3"
    },
    "language_info": {
      "name": "python"
    }
  },
  "cells": [
    {
      "cell_type": "markdown",
      "metadata": {
        "id": "view-in-github",
        "colab_type": "text"
      },
      "source": [
        "<a href=\"https://colab.research.google.com/github/DenisseAlejandra28/hola/blob/main/RecorridoDeStrings.ipynb\" target=\"_parent\"><img src=\"https://colab.research.google.com/assets/colab-badge.svg\" alt=\"Open In Colab\"/></a>"
      ]
    },
    {
      "cell_type": "code",
      "source": [
        "# Slicing básico: [inicio:fin]\n",
        "# Extrae los caracteres desde la posición 0 hasta la 4 (sin incluir la posición 4)\n",
        "palabra = \"Programación\"\n",
        "parte = palabra[0:4]  # 'Prog'\n",
        "print(parte)\n"
      ],
      "metadata": {
        "id": "OMLu8KXhWZ4y",
        "outputId": "04ed0087-8254-4d5d-b940-6f44481d0d05",
        "colab": {
          "base_uri": "https://localhost:8080/"
        }
      },
      "execution_count": 8,
      "outputs": [
        {
          "output_type": "stream",
          "name": "stdout",
          "text": [
            "Prog\n"
          ]
        }
      ]
    },
    {
      "cell_type": "code",
      "source": [
        "# Si no especificamos el valor de inicio, Python asume que empezamos desde el principio\n",
        "# Si no especificamos el valor de fin, Python asume que llegamos hasta el final\n",
        "palabra = \"Programación\"\n",
        "print(palabra[:5])  # 'Progr' (Desde el inicio hasta la posición 4)\n",
        "print(palabra[5:])  # 'amación' (Desde la posición 5 hasta el final)\n"
      ],
      "metadata": {
        "id": "uiI81Ct8Wl_R",
        "outputId": "97401997-2273-4da3-e3d4-6d9fb5500a0f",
        "colab": {
          "base_uri": "https://localhost:8080/"
        }
      },
      "execution_count": 3,
      "outputs": [
        {
          "output_type": "stream",
          "name": "stdout",
          "text": [
            "Progr\n",
            "amación\n"
          ]
        }
      ]
    },
    {
      "cell_type": "code",
      "source": [
        "# También podemos usar índices negativos para contar desde el final del String\n",
        "palabra = \"Programación\"\n",
        "# Empieza en la posición -4 (la 'i') y termina al final del String\n",
        "print(palabra[-4:])  # 'ción'\n"
      ],
      "metadata": {
        "id": "Lm497erlWzu7",
        "outputId": "170506b2-9041-4aa1-87bf-dd930a5c6b5a",
        "colab": {
          "base_uri": "https://localhost:8080/"
        }
      },
      "execution_count": 4,
      "outputs": [
        {
          "output_type": "stream",
          "name": "stdout",
          "text": [
            "ción\n"
          ]
        }
      ]
    },
    {
      "cell_type": "code",
      "source": [
        "# El tercer argumento en el slicing es el \"paso\", que indica cuántos caracteres saltar\n",
        "# En este ejemplo, tomamos un carácter cada 2 posiciones\n",
        "palabra = \"Programación\"\n",
        "resultado = palabra[0:10:2]  # 'Pormc'\n",
        "print(resultado)\n"
      ],
      "metadata": {
        "id": "0LB3-WA2XEGT",
        "outputId": "cc6d930f-61e5-46cb-b272-a0b6ab913777",
        "colab": {
          "base_uri": "https://localhost:8080/"
        }
      },
      "execution_count": 5,
      "outputs": [
        {
          "output_type": "stream",
          "name": "stdout",
          "text": [
            "Pormc\n"
          ]
        }
      ]
    },
    {
      "cell_type": "code",
      "source": [
        "# Podemos invertir un String usando slicing con un paso negativo\n",
        "palabra = \"Python\"\n",
        "palabra_invertida = palabra[::-1]  # 'nohtyP'\n",
        "print(palabra_invertida)\n"
      ],
      "metadata": {
        "id": "uj1iQw5HXUMK",
        "outputId": "a1633850-91eb-4324-aa08-5979726dbaba",
        "colab": {
          "base_uri": "https://localhost:8080/"
        }
      },
      "execution_count": 9,
      "outputs": [
        {
          "output_type": "stream",
          "name": "stdout",
          "text": [
            "nohtyP\n"
          ]
        }
      ]
    },
    {
      "cell_type": "code",
      "source": [
        "# El slicing no solo funciona en Strings, también lo podemos usar en listas\n",
        "numeros = [10, 20, 30, 40, 50, 60, 70, 80]\n",
        "# Obtenemos una porción de la lista desde la posición 2 hasta la 5 (sin incluir la 5)\n",
        "sub_lista = numeros[2:5]  # [30, 40, 50]\n",
        "print(sub_lista)\n",
        "\n",
        "# También podemos usar el paso para obtener solo los elementos en posiciones pares\n",
        "pares = numeros[::2]  # [10, 30, 50, 70]\n",
        "print(pares)\n"
      ],
      "metadata": {
        "id": "xE41NVjfWvri",
        "outputId": "dcd196c7-5f61-4a98-e941-9f8ae40fd56c",
        "colab": {
          "base_uri": "https://localhost:8080/"
        }
      },
      "execution_count": 10,
      "outputs": [
        {
          "output_type": "stream",
          "name": "stdout",
          "text": [
            "[30, 40, 50]\n",
            "[10, 30, 50, 70]\n"
          ]
        }
      ]
    },
    {
      "cell_type": "code",
      "execution_count": 12,
      "metadata": {
        "id": "8TtZsNZrTZhM",
        "outputId": "421883c9-0abf-4c3f-8534-e3a877cc1cd5",
        "colab": {
          "base_uri": "https://localhost:8080/"
        }
      },
      "outputs": [
        {
          "output_type": "stream",
          "name": "stdout",
          "text": [
            "P\n",
            "n\n"
          ]
        }
      ],
      "source": [
        "# Un String es una secuencia de caracteres, donde cada carácter tiene una posición (índice)\n",
        "# Podemos acceder a los caracteres de un String usando corchetes []\n",
        "palabra = \"Python\"\n",
        "# Accedemos al primer carácter\n",
        "print(palabra[0])  # 'P'\n",
        "# Accedemos al último carácter\n",
        "print(palabra[-1])  # 'n'\n"
      ]
    },
    {
      "cell_type": "code",
      "source": [
        "# Podemos recorrer un String carácter por carácter usando un bucle for\n",
        "palabra = \"Python\"\n",
        "for letra in palabra:\n",
        "    print(letra)  # Imprime cada letra en una nueva línea\n"
      ],
      "metadata": {
        "id": "KZXjIG-MUBHQ",
        "outputId": "445fce0a-582e-4dde-b8fb-e1b7edf976e2",
        "colab": {
          "base_uri": "https://localhost:8080/"
        }
      },
      "execution_count": 13,
      "outputs": [
        {
          "output_type": "stream",
          "name": "stdout",
          "text": [
            "P\n",
            "y\n",
            "t\n",
            "h\n",
            "o\n",
            "n\n"
          ]
        }
      ]
    },
    {
      "cell_type": "code",
      "source": [
        "# La función len() devuelve la longitud (número de caracteres) de un String\n",
        "palabra = \"Programación\"\n",
        "longitud = len(palabra)\n",
        "print(f\"La palabra tiene {longitud} caracteres.\")\n"
      ],
      "metadata": {
        "id": "DFbS5EDGUN8b",
        "outputId": "5fff0dda-61b6-4217-9d41-78764241b483",
        "colab": {
          "base_uri": "https://localhost:8080/"
        }
      },
      "execution_count": 14,
      "outputs": [
        {
          "output_type": "stream",
          "name": "stdout",
          "text": [
            "La palabra tiene 12 caracteres.\n"
          ]
        }
      ]
    },
    {
      "cell_type": "code",
      "source": [
        "# Podemos usar len() junto con un bucle for para recorrer un String usando índices\n",
        "palabra = \"Python\"\n",
        "for i in range(len(palabra)):\n",
        "    print(f\"Caracter en la posición {i}: {palabra[i]}\")\n"
      ],
      "metadata": {
        "id": "5vkoNHKvUZ-Q",
        "outputId": "765a8fa9-3e34-4d7b-c9de-168d32df0ebd",
        "colab": {
          "base_uri": "https://localhost:8080/"
        }
      },
      "execution_count": 15,
      "outputs": [
        {
          "output_type": "stream",
          "name": "stdout",
          "text": [
            "Caracter en la posición 0: P\n",
            "Caracter en la posición 1: y\n",
            "Caracter en la posición 2: t\n",
            "Caracter en la posición 3: h\n",
            "Caracter en la posición 4: o\n",
            "Caracter en la posición 5: n\n"
          ]
        }
      ]
    },
    {
      "cell_type": "code",
      "source": [
        "# El operador + nos permite concatenar (unir) dos o más Strings\n",
        "parte1 = \"Hola\"\n",
        "parte2 = \"Mundo\"\n",
        "frase = parte1 + \" \" + parte2  # Concatenamos las dos palabras con un espacio en medio\n",
        "print(frase)\n"
      ],
      "metadata": {
        "id": "n-Ye5MSLUjsG",
        "outputId": "f8db0c84-df04-4cf6-c297-e37ba5739611",
        "colab": {
          "base_uri": "https://localhost:8080/"
        }
      },
      "execution_count": 17,
      "outputs": [
        {
          "output_type": "stream",
          "name": "stdout",
          "text": [
            "Hola Mundo\n"
          ]
        }
      ]
    },
    {
      "cell_type": "code",
      "source": [
        "# Los Strings en Python son inmutables, pero podemos crear nuevos Strings a partir de ellos usando slicing\n",
        "palabra = \"Python\"\n",
        "nueva_palabra = palabra[:2] + \"r\" + palabra[3:]  # Cambiamos la 't' por una 'r'\n",
        "print(nueva_palabra)  # 'Pyrhon'\n"
      ],
      "metadata": {
        "id": "-abH2lkkUujw",
        "outputId": "80e033b5-f1a0-4131-c8c4-832e5f0269ef",
        "colab": {
          "base_uri": "https://localhost:8080/"
        }
      },
      "execution_count": 19,
      "outputs": [
        {
          "output_type": "stream",
          "name": "stdout",
          "text": [
            "Pyrhon\n"
          ]
        }
      ]
    },
    {
      "cell_type": "code",
      "source": [
        "# Podemos verificar si un carácter o substring está presente en un String usando el operador 'in'\n",
        "frase = \"Bienvenidos a Python\"\n",
        "if \"a\" in frase:\n",
        "    print(\"La letra 'a' está en la frase.\")\n",
        "else:\n",
        "    print(\"La letra 'a' no está en la frase.\")\n"
      ],
      "metadata": {
        "id": "y4vWm_SAVRTH",
        "outputId": "06433b49-d062-412f-8997-3eba3df33f7c",
        "colab": {
          "base_uri": "https://localhost:8080/"
        }
      },
      "execution_count": 21,
      "outputs": [
        {
          "output_type": "stream",
          "name": "stdout",
          "text": [
            "La letra 'a' está en la frase.\n"
          ]
        }
      ]
    },
    {
      "cell_type": "code",
      "source": [
        "# Usando un bucle for podemos contar cuántas veces aparece un carácter en un String\n",
        "palabra = \"Programación\"\n",
        "contador = 0\n",
        "for letra in palabra:\n",
        "    if letra == \"o\":\n",
        "        contador += 1\n",
        "print(f\"La letra 'o' aparece {contador} veces en la palabra.\")\n"
      ],
      "metadata": {
        "id": "JrVocJckVaJC",
        "outputId": "89f8ae1b-1d5a-4749-c592-66594b322854",
        "colab": {
          "base_uri": "https://localhost:8080/"
        }
      },
      "execution_count": 23,
      "outputs": [
        {
          "output_type": "stream",
          "name": "stdout",
          "text": [
            "La letra 'o' aparece 1 veces en la palabra.\n"
          ]
        }
      ]
    },
    {
      "cell_type": "code",
      "source": [
        "# Podemos invertir un String usando slicing [::-1]\n",
        "palabra = \"Python\"\n",
        "palabra_invertida = palabra[::-1]\n",
        "print(f\"El inverso de '{palabra}' es '{palabra_invertida}'.\")\n"
      ],
      "metadata": {
        "id": "nLKVJUhCVoic",
        "outputId": "5ace63ad-4df2-40e4-daa0-a39101102747",
        "colab": {
          "base_uri": "https://localhost:8080/"
        }
      },
      "execution_count": 25,
      "outputs": [
        {
          "output_type": "stream",
          "name": "stdout",
          "text": [
            "El inverso de 'Python' es 'nohtyP'.\n"
          ]
        }
      ]
    },
    {
      "cell_type": "code",
      "source": [
        "# Podemos comparar dos Strings para ver si son iguales usando ==\n",
        "string1 = \"Python\"\n",
        "string2 = \"Python\"\n",
        "if string1 == string2:\n",
        "    print(\"Los Strings son iguales.\")\n",
        "else:\n",
        "    print(\"Los Strings son diferentes.\")\n"
      ],
      "metadata": {
        "id": "k7ujNOs6V3Wd",
        "outputId": "6fd842a9-c333-4692-de7c-0b47a27c32ca",
        "colab": {
          "base_uri": "https://localhost:8080/"
        }
      },
      "execution_count": 27,
      "outputs": [
        {
          "output_type": "stream",
          "name": "stdout",
          "text": [
            "Los Strings son iguales.\n"
          ]
        }
      ]
    }
  ]
}