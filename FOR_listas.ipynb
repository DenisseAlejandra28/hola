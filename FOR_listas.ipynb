{
  "nbformat": 4,
  "nbformat_minor": 0,
  "metadata": {
    "colab": {
      "provenance": [],
      "include_colab_link": true
    },
    "kernelspec": {
      "name": "python3",
      "display_name": "Python 3"
    },
    "language_info": {
      "name": "python"
    }
  },
  "cells": [
    {
      "cell_type": "markdown",
      "metadata": {
        "id": "view-in-github",
        "colab_type": "text"
      },
      "source": [
        "<a href=\"https://colab.research.google.com/github/DenisseAlejandra28/hola/blob/main/FOR_listas.ipynb\" target=\"_parent\"><img src=\"https://colab.research.google.com/assets/colab-badge.svg\" alt=\"Open In Colab\"/></a>"
      ]
    },
    {
      "cell_type": "code",
      "execution_count": 1,
      "metadata": {
        "id": "ygci03gPgYfT",
        "outputId": "6318ba6e-f985-4fcb-cb85-d7fb513bca73",
        "colab": {
          "base_uri": "https://localhost:8080/"
        }
      },
      "outputs": [
        {
          "output_type": "stream",
          "name": "stdout",
          "text": [
            "1\n",
            "2\n",
            "3\n",
            "4\n",
            "5\n"
          ]
        }
      ],
      "source": [
        "# Recorrer una lista de una dimensión con un bucle for\n",
        "numeros = [1, 2, 3, 4, 5]\n",
        "for numero in numeros:\n",
        "    print(numero)\n"
      ]
    },
    {
      "cell_type": "code",
      "source": [
        "# Usamos range() y len() para acceder a los elementos de la lista por índice\n",
        "numeros = [10, 20, 30, 40, 50]\n",
        "for i in range(len(numeros)):\n",
        "    print(f\"Elemento en la posición {i}: {numeros[i]}\")\n"
      ],
      "metadata": {
        "id": "CX4VUtxQgcaA",
        "outputId": "ab065027-4d31-4e99-f60c-24b2e96feae6",
        "colab": {
          "base_uri": "https://localhost:8080/"
        }
      },
      "execution_count": 3,
      "outputs": [
        {
          "output_type": "stream",
          "name": "stdout",
          "text": [
            "Elemento en la posición 0: 10\n",
            "Elemento en la posición 1: 20\n",
            "Elemento en la posición 2: 30\n",
            "Elemento en la posición 3: 40\n",
            "Elemento en la posición 4: 50\n"
          ]
        }
      ]
    },
    {
      "cell_type": "code",
      "source": [
        "# Modificar una lista durante un recorrido usando índices\n",
        "numeros = [5, 10, 15, 20]\n",
        "for i in range(len(numeros)):\n",
        "    numeros[i] = numeros[i] * 2  # Multiplicamos cada elemento por 2\n",
        "print(numeros)  # [10, 20, 30, 40]\n"
      ],
      "metadata": {
        "id": "SULE8_tPgg0A",
        "outputId": "ce29286b-fcad-4739-9eda-eeb898097cbb",
        "colab": {
          "base_uri": "https://localhost:8080/"
        }
      },
      "execution_count": 5,
      "outputs": [
        {
          "output_type": "stream",
          "name": "stdout",
          "text": [
            "[10, 20, 30, 40]\n"
          ]
        }
      ]
    },
    {
      "cell_type": "code",
      "source": [
        "# Usamos enumerate() para obtener tanto el índice como el valor de los elementos de la lista\n",
        "colores = [\"rojo\", \"verde\", \"azul\"]\n",
        "for indice, color in enumerate(colores):\n",
        "    print(f\"Índice: {indice}, Color: {color}\")\n"
      ],
      "metadata": {
        "id": "-uQdXBSkgmx2",
        "outputId": "1ae56935-d39f-479c-afd0-65db362e7e22",
        "colab": {
          "base_uri": "https://localhost:8080/"
        }
      },
      "execution_count": 7,
      "outputs": [
        {
          "output_type": "stream",
          "name": "stdout",
          "text": [
            "Índice: 0, Color: rojo\n",
            "Índice: 1, Color: verde\n",
            "Índice: 2, Color: azul\n"
          ]
        }
      ]
    },
    {
      "cell_type": "code",
      "source": [
        "# Creamos una nueva lista que contiene solo los números mayores que 20\n",
        "numeros = [10, 25, 30, 5, 40]\n",
        "mayores_de_20 = []\n",
        "for numero in numeros:\n",
        "    if numero > 20:\n",
        "        mayores_de_20.append(numero)\n",
        "print(mayores_de_20)  # [25, 30, 40]\n"
      ],
      "metadata": {
        "id": "_sJV66nfgsPR",
        "outputId": "9f19bdbb-5e4f-47ef-d6de-08841ddaa9d0",
        "colab": {
          "base_uri": "https://localhost:8080/"
        }
      },
      "execution_count": 9,
      "outputs": [
        {
          "output_type": "stream",
          "name": "stdout",
          "text": [
            "[25, 30, 40]\n"
          ]
        }
      ]
    },
    {
      "cell_type": "code",
      "source": [
        "# Sumamos todos los elementos de una lista\n",
        "numeros = [10, 20, 30, 40]\n",
        "suma = 0\n",
        "for numero in numeros:\n",
        "    suma += numero\n",
        "print(f\"La suma total es: {suma}\")  # La suma total es: 100\n"
      ],
      "metadata": {
        "id": "8IgJp4uTgzXg",
        "outputId": "029a537d-0f12-4386-e998-18fb405cc075",
        "colab": {
          "base_uri": "https://localhost:8080/"
        }
      },
      "execution_count": 11,
      "outputs": [
        {
          "output_type": "stream",
          "name": "stdout",
          "text": [
            "La suma total es: 100\n"
          ]
        }
      ]
    },
    {
      "cell_type": "code",
      "source": [
        "# Recorremos una lista de Strings y los concatenamos en una sola frase\n",
        "palabras = [\"Hola\", \"mundo\", \"Python\", \"es\", \"genial\"]\n",
        "frase = \"\"\n",
        "for palabra in palabras:\n",
        "    frase += palabra + \" \"\n",
        "print(frase.strip())  # El método strip() elimina los espacios adicionales al final\n"
      ],
      "metadata": {
        "id": "F532o2Acg3Fv",
        "outputId": "6c79a72d-a9d3-4a50-8aa9-b7f62d58a4a7",
        "colab": {
          "base_uri": "https://localhost:8080/"
        }
      },
      "execution_count": 13,
      "outputs": [
        {
          "output_type": "stream",
          "name": "stdout",
          "text": [
            "Hola mundo Python es genial\n"
          ]
        }
      ]
    },
    {
      "cell_type": "code",
      "source": [
        "# Creamos una lista con los cuadrados de los números\n",
        "numeros = [1, 2, 3, 4, 5]\n",
        "cuadrados = []\n",
        "for numero in numeros:\n",
        "    cuadrados.append(numero ** 2)\n",
        "print(cuadrados)  # [1, 4, 9, 16, 25]\n"
      ],
      "metadata": {
        "id": "_rfDT6Qyg6vC",
        "outputId": "d4a728db-9159-4f08-9ac8-1f3af5647439",
        "colab": {
          "base_uri": "https://localhost:8080/"
        }
      },
      "execution_count": 15,
      "outputs": [
        {
          "output_type": "stream",
          "name": "stdout",
          "text": [
            "[1, 4, 9, 16, 25]\n"
          ]
        }
      ]
    },
    {
      "cell_type": "code",
      "source": [
        "# Recorremos una lista y solo imprimimos los números pares\n",
        "numeros = [10, 15, 20, 25, 30]\n",
        "for numero in numeros:\n",
        "    if numero % 2 == 0:\n",
        "        print(f\"{numero} es par.\")\n"
      ],
      "metadata": {
        "id": "wLzyP3Nug-rY",
        "outputId": "e5f381e6-adb1-4c66-ce1d-7e6ddf71b3a3",
        "colab": {
          "base_uri": "https://localhost:8080/"
        }
      },
      "execution_count": 17,
      "outputs": [
        {
          "output_type": "stream",
          "name": "stdout",
          "text": [
            "10 es par.\n",
            "20 es par.\n",
            "30 es par.\n"
          ]
        }
      ]
    },
    {
      "cell_type": "code",
      "source": [
        "# Recorremos una lista que contiene listas (lista de una dimensión que incluye listas)\n",
        "matriz = [[1, 2, 3], [4, 5, 6], [7, 8, 9]]\n",
        "for fila in matriz:\n",
        "    for elemento in fila:\n",
        "        print(elemento, end=\" \")\n",
        "    print()  # Para imprimir una nueva línea después de cada fila\n"
      ],
      "metadata": {
        "id": "wDwEFafHhCzd",
        "outputId": "6b9f82a6-4ee9-4f40-8cc8-170d817d053e",
        "colab": {
          "base_uri": "https://localhost:8080/"
        }
      },
      "execution_count": 19,
      "outputs": [
        {
          "output_type": "stream",
          "name": "stdout",
          "text": [
            "1 2 3 \n",
            "4 5 6 \n",
            "7 8 9 \n"
          ]
        }
      ]
    },
    {
      "cell_type": "code",
      "source": [
        "# Matriz de ejemplo\n",
        "matriz = [[1, 2, 3], [4, 5, 6], [7, 8, 9]]\n",
        "\n",
        "# Suma de la diagonal principal (elementos en posiciones [0][0], [1][1], [2][2])\n",
        "suma_diagonal = 0\n",
        "for i in range(len(matriz)):\n",
        "    suma_diagonal += matriz[i][i]\n",
        "\n",
        "print(f\"Suma de la diagonal principal: {suma_diagonal}\")  # 1 + 5 + 9 = 15\n",
        "\n",
        "# Suma de todos los elementos de la matriz\n",
        "suma_total = 0\n",
        "for fila in matriz:\n",
        "    for elemento in fila:\n",
        "        suma_total += elemento\n",
        "\n",
        "print(f\"Suma de todos los elementos de la matriz: {suma_total}\")  # 45\n",
        "\n",
        "# Obtener el número máximo y mínimo de la matriz\n",
        "maximo = max(max(fila) for fila in matriz)\n",
        "minimo = min(min(fila) for fila in matriz)\n",
        "\n",
        "print(f\"Valor máximo en la matriz: {maximo}\")  # 9\n",
        "print(f\"Valor mínimo en la matriz: {minimo}\")  # 1\n"
      ],
      "metadata": {
        "id": "V8vacKS4hu1P",
        "outputId": "b784178a-ff3e-45ce-f7d0-10b84dde8d88",
        "colab": {
          "base_uri": "https://localhost:8080/"
        }
      },
      "execution_count": 21,
      "outputs": [
        {
          "output_type": "stream",
          "name": "stdout",
          "text": [
            "Suma de la diagonal principal: 15\n",
            "Suma de todos los elementos de la matriz: 45\n",
            "Valor máximo en la matriz: 9\n",
            "Valor mínimo en la matriz: 1\n"
          ]
        }
      ]
    }
  ]
}