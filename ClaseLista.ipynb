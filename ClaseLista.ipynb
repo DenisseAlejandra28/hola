{
  "nbformat": 4,
  "nbformat_minor": 0,
  "metadata": {
    "colab": {
      "provenance": [],
      "include_colab_link": true
    },
    "kernelspec": {
      "name": "python3",
      "display_name": "Python 3"
    },
    "language_info": {
      "name": "python"
    }
  },
  "cells": [
    {
      "cell_type": "markdown",
      "metadata": {
        "id": "view-in-github",
        "colab_type": "text"
      },
      "source": [
        "<a href=\"https://colab.research.google.com/github/DenisseAlejandra28/hola/blob/main/ClaseLista.ipynb\" target=\"_parent\"><img src=\"https://colab.research.google.com/assets/colab-badge.svg\" alt=\"Open In Colab\"/></a>"
      ]
    },
    {
      "cell_type": "code",
      "execution_count": 2,
      "metadata": {
        "id": "HWEtdV93em9A",
        "outputId": "5a62d480-7d5f-4b1c-8d72-44c4d4ca4729",
        "colab": {
          "base_uri": "https://localhost:8080/"
        }
      },
      "outputs": [
        {
          "output_type": "stream",
          "name": "stdout",
          "text": [
            "[1, 2, 3, 4, 5]\n"
          ]
        }
      ],
      "source": [
        "# Crear una lista con elementos\n",
        "mi_lista = [1, 2, 3, 4, 5]\n",
        "print(mi_lista)\n"
      ]
    },
    {
      "cell_type": "code",
      "source": [
        "# Acceder a elementos individuales usando índices\n",
        "mi_lista = [10, 20, 30, 40]\n",
        "print(mi_lista[0])  # 10\n",
        "print(mi_lista[-1])  # 40 (último elemento)\n"
      ],
      "metadata": {
        "id": "uhJZjXRFesBE",
        "outputId": "f9846586-8fb8-4877-c600-ebc3e5d20b8f",
        "colab": {
          "base_uri": "https://localhost:8080/"
        }
      },
      "execution_count": 4,
      "outputs": [
        {
          "output_type": "stream",
          "name": "stdout",
          "text": [
            "10\n",
            "40\n"
          ]
        }
      ]
    },
    {
      "cell_type": "code",
      "source": [
        "# Usamos append() para añadir elementos y pop() para eliminarlos\n",
        "mi_lista = [1, 2, 3]\n",
        "mi_lista.append(4)  # Añadimos el número 4\n",
        "print(mi_lista)\n",
        "\n",
        "mi_lista.pop()  # Eliminamos el último elemento\n",
        "print(mi_lista)\n"
      ],
      "metadata": {
        "id": "R8W73zVlexGD",
        "outputId": "f34f3cbe-2bf7-428f-a7bd-0b0bed42e2b2",
        "colab": {
          "base_uri": "https://localhost:8080/"
        }
      },
      "execution_count": 6,
      "outputs": [
        {
          "output_type": "stream",
          "name": "stdout",
          "text": [
            "[1, 2, 3, 4]\n",
            "[1, 2, 3]\n"
          ]
        }
      ]
    },
    {
      "cell_type": "code",
      "source": [
        "# El método sort() ordena una lista en orden ascendente\n",
        "mi_lista = [4, 1, 3, 2]\n",
        "mi_lista.sort()\n",
        "print(mi_lista)  # [1, 2, 3, 4]\n"
      ],
      "metadata": {
        "id": "4iMC2qPbe1_6",
        "outputId": "3d9574a8-fc5d-493d-d547-2c5618336f48",
        "colab": {
          "base_uri": "https://localhost:8080/"
        }
      },
      "execution_count": 8,
      "outputs": [
        {
          "output_type": "stream",
          "name": "stdout",
          "text": [
            "[1, 2, 3, 4]\n"
          ]
        }
      ]
    },
    {
      "cell_type": "code",
      "source": [
        "# Las listas pueden contener otras listas, formando listas anidadas\n",
        "matriz = [[1, 2, 3], [4, 5, 6], [7, 8, 9]]\n",
        "print(matriz[0][1])  # 2 (segundo elemento de la primera fila)\n"
      ],
      "metadata": {
        "id": "sKB4VUXYe_JV",
        "outputId": "856a7e94-0fd6-45af-ac08-6cefc6133924",
        "colab": {
          "base_uri": "https://localhost:8080/"
        }
      },
      "execution_count": 10,
      "outputs": [
        {
          "output_type": "stream",
          "name": "stdout",
          "text": [
            "2\n"
          ]
        }
      ]
    }
  ]
}