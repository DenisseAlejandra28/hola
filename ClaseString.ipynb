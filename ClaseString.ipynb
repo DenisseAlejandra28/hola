{
  "nbformat": 4,
  "nbformat_minor": 0,
  "metadata": {
    "colab": {
      "provenance": [],
      "include_colab_link": true
    },
    "kernelspec": {
      "name": "python3",
      "display_name": "Python 3"
    },
    "language_info": {
      "name": "python"
    }
  },
  "cells": [
    {
      "cell_type": "markdown",
      "metadata": {
        "id": "view-in-github",
        "colab_type": "text"
      },
      "source": [
        "<a href=\"https://colab.research.google.com/github/DenisseAlejandra28/hola/blob/main/ClaseString.ipynb\" target=\"_parent\"><img src=\"https://colab.research.google.com/assets/colab-badge.svg\" alt=\"Open In Colab\"/></a>"
      ]
    },
    {
      "cell_type": "code",
      "execution_count": 2,
      "metadata": {
        "id": "ADvjAxJhdq_U",
        "outputId": "722b1625-7d39-47f9-a09c-fc5c075a3513",
        "colab": {
          "base_uri": "https://localhost:8080/"
        }
      },
      "outputs": [
        {
          "output_type": "stream",
          "name": "stdout",
          "text": [
            "Hola, Mundo\n"
          ]
        }
      ],
      "source": [
        "# Crear un String en Python es muy sencillo\n",
        "cadena = \"Hola, Mundo\"\n",
        "print(cadena)\n"
      ]
    },
    {
      "cell_type": "code",
      "source": [
        "# Métodos como upper(), lower(), y capitalize() se usan para manipular Strings\n",
        "cadena = \"hola\"\n",
        "print(cadena.upper())       # HOLA\n",
        "print(cadena.capitalize())  # Hola\n"
      ],
      "metadata": {
        "id": "0tkBBHiFd3Xi",
        "outputId": "b20d85e3-b978-48e1-aaeb-e2d30c1e6307",
        "colab": {
          "base_uri": "https://localhost:8080/"
        }
      },
      "execution_count": 3,
      "outputs": [
        {
          "output_type": "stream",
          "name": "stdout",
          "text": [
            "HOLA\n",
            "Hola\n"
          ]
        }
      ]
    },
    {
      "cell_type": "code",
      "source": [
        "# Usamos find() para buscar una subcadena en un String\n",
        "cadena = \"Python es genial\"\n",
        "posicion = cadena.find(\"genial\")\n",
        "print(posicion)  # 10 (empieza en la posición 10)\n"
      ],
      "metadata": {
        "id": "4ie_UjZ_d6E6",
        "outputId": "11ecfeb4-0e39-454a-df60-6f8de1eface3",
        "colab": {
          "base_uri": "https://localhost:8080/"
        }
      },
      "execution_count": 4,
      "outputs": [
        {
          "output_type": "stream",
          "name": "stdout",
          "text": [
            "10\n"
          ]
        }
      ]
    },
    {
      "cell_type": "code",
      "source": [
        "# El método replace() nos permite reemplazar partes de un String\n",
        "cadena = \"Aprender Python es divertido\"\n",
        "nueva_cadena = cadena.replace(\"divertido\", \"fascinante\")\n",
        "print(nueva_cadena)  # Aprender Python es fascinante\n"
      ],
      "metadata": {
        "id": "uZYvjVk8eDXo",
        "outputId": "5fc89de7-ed67-4223-8d9f-e011209d60f9",
        "colab": {
          "base_uri": "https://localhost:8080/"
        }
      },
      "execution_count": 5,
      "outputs": [
        {
          "output_type": "stream",
          "name": "stdout",
          "text": [
            "Aprender Python es fascinante\n"
          ]
        }
      ]
    },
    {
      "cell_type": "code",
      "source": [
        "# split() divide un String en una lista y join() los une de nuevo\n",
        "cadena = \"uno, dos, tres\"\n",
        "lista = cadena.split(\", \")\n",
        "print(lista)  # ['uno', 'dos', 'tres']\n",
        "\n",
        "nueva_cadena = \"-\".join(lista)\n",
        "print(nueva_cadena)  # uno-dos-tres\n"
      ],
      "metadata": {
        "id": "QISYSgM3eKN9",
        "outputId": "3981f801-a5c7-47ff-d0fd-3817097f40a8",
        "colab": {
          "base_uri": "https://localhost:8080/"
        }
      },
      "execution_count": 7,
      "outputs": [
        {
          "output_type": "stream",
          "name": "stdout",
          "text": [
            "['uno', 'dos', 'tres']\n",
            "uno-dos-tres\n"
          ]
        }
      ]
    }
  ]
}